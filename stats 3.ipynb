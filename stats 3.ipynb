{
 "cells": [
  {
   "cell_type": "code",
   "execution_count": 1,
   "id": "95ecff92-ed93-46bf-8d9e-3f9117ad363c",
   "metadata": {},
   "outputs": [
    {
     "data": {
      "text/plain": [
       "\"Estimation in statistics refers to the process of using sample data to make educated guesses or estimates about population parameters (such as means, proportions, variances) when it is impractical or impossible to measure the entire population. There are two main types of estimation: point estimate and interval estimate.\\n\\n1. **Point Estimate:**\\nA point estimate is a single value that is used to estimate an unknown population parameter. It's like making an educated guess based on the sample data. For example, if you're trying to estimate the average height of all students in a school and you collect a sample of heights, the sample mean height would be your point estimate for the population mean height. However, this single value may or may not be exactly equal to the true population parameter.\\n\\n2. **Interval Estimate:**\\nAn interval estimate, also known as a confidence interval, provides a range of values within which the true population parameter is likely to lie. Unlike a point estimate, which gives a single value, an interval estimate gives you a range. This range is determined by the sample data and a confidence level that you choose. The confidence level represents the probability that the true parameter falls within the interval. Common confidence levels are 90%, 95%, and 99%.\\n\\nHere's how interval estimation works:\\n- You collect sample data and calculate a point estimate (like the sample mean).\\n- You also calculate a margin of error, which is influenced by the variability in the data and the chosen confidence level.\\n- The interval estimate is created by adding and subtracting the margin of error from the point estimate. This creates a range of values known as the confidence interval.\\n- The confidence interval represents the likely range within which the true population parameter exists. The larger the confidence level, the wider the interval.\\n\\nFor example, if you calculate a 95% confidence interval for the average height of students and obtain a range of 160 cm to 170 cm, it means that you are 95% confident that the true average height of all students falls within this range based on your sample data.\\n\\nIn summary, estimation statistics involves using sample data to make educated guesses about population parameters. Point estimates provide a single value estimate, while interval estimates give a range within which the true parameter is likely to be found, along with a specified confidence level.\""
      ]
     },
     "execution_count": 1,
     "metadata": {},
     "output_type": "execute_result"
    }
   ],
   "source": [
    "#que 1\n",
    "\"\"\"Estimation in statistics refers to the process of using sample data to make educated guesses or estimates about population parameters (such as means, proportions, variances) when it is impractical or impossible to measure the entire population. There are two main types of estimation: point estimate and interval estimate.\n",
    "\n",
    "1. **Point Estimate:**\n",
    "A point estimate is a single value that is used to estimate an unknown population parameter. It's like making an educated guess based on the sample data. For example, if you're trying to estimate the average height of all students in a school and you collect a sample of heights, the sample mean height would be your point estimate for the population mean height. However, this single value may or may not be exactly equal to the true population parameter.\n",
    "\n",
    "2. **Interval Estimate:**\n",
    "An interval estimate, also known as a confidence interval, provides a range of values within which the true population parameter is likely to lie. Unlike a point estimate, which gives a single value, an interval estimate gives you a range. This range is determined by the sample data and a confidence level that you choose. The confidence level represents the probability that the true parameter falls within the interval. Common confidence levels are 90%, 95%, and 99%.\n",
    "\n",
    "Here's how interval estimation works:\n",
    "- You collect sample data and calculate a point estimate (like the sample mean).\n",
    "- You also calculate a margin of error, which is influenced by the variability in the data and the chosen confidence level.\n",
    "- The interval estimate is created by adding and subtracting the margin of error from the point estimate. This creates a range of values known as the confidence interval.\n",
    "- The confidence interval represents the likely range within which the true population parameter exists. The larger the confidence level, the wider the interval.\n",
    "\n",
    "For example, if you calculate a 95% confidence interval for the average height of students and obtain a range of 160 cm to 170 cm, it means that you are 95% confident that the true average height of all students falls within this range based on your sample data.\n",
    "\n",
    "In summary, estimation statistics involves using sample data to make educated guesses about population parameters. Point estimates provide a single value estimate, while interval estimates give a range within which the true parameter is likely to be found, along with a specified confidence level.\"\"\""
   ]
  },
  {
   "cell_type": "code",
   "execution_count": 2,
   "id": "1de5430f-3bc7-4e72-9f16-4e413511526a",
   "metadata": {},
   "outputs": [
    {
     "name": "stdout",
     "output_type": "stream",
     "text": [
      "Estimated population mean: 65.2\n"
     ]
    }
   ],
   "source": [
    "#que 2\n",
    "def estimate_population_mean(sample_mean, sample_std_dev, sample_size):\n",
    "    \"\"\"\n",
    "    Estimate the population mean using a sample mean, sample standard deviation, and sample size.\n",
    "    \n",
    "    Parameters:\n",
    "    - sample_mean: The mean of the sample.\n",
    "    - sample_std_dev: The standard deviation of the sample.\n",
    "    - sample_size: The size of the sample.\n",
    "    \n",
    "    Returns:\n",
    "    - population_mean_estimate: The estimated population mean.\n",
    "    \"\"\"\n",
    "    population_mean_estimate = sample_mean\n",
    "    \n",
    "    return population_mean_estimate\n",
    "\n",
    "# Example usage\n",
    "sample_mean = 65.2\n",
    "sample_std_dev = 4.8\n",
    "sample_size = 100\n",
    "\n",
    "estimated_mean = estimate_population_mean(sample_mean, sample_std_dev, sample_size)\n",
    "print(f\"Estimated population mean: {estimated_mean}\")\n"
   ]
  },
  {
   "cell_type": "code",
   "execution_count": 3,
   "id": "252d16a7-3d34-4e91-b91e-c8bd965c9232",
   "metadata": {},
   "outputs": [
    {
     "data": {
      "text/plain": [
       "\"Hypothesis testing is a fundamental concept in statistics used to make decisions and draw conclusions about population parameters based on sample data. It involves the formulation of two competing hypotheses, the null hypothesis (H0) and the alternative hypothesis (Ha), and then using statistical methods to determine whether there is enough evidence to support rejecting the null hypothesis in favor of the alternative hypothesis.\\n\\nHere's the basic process of hypothesis testing:\\n\\n1. **Formulate Hypotheses:**\\n   - Null Hypothesis (H0): This is a statement of no effect or no difference. It's what you assume to be true unless there is strong evidence to the contrary.\\n   - Alternative Hypothesis (Ha): This is the statement you are trying to find evidence for. It asserts that there is a significant effect or difference.\\n\\n2. **Collect and Analyze Data:**\\n   - You collect sample data relevant to the hypothesis you're testing.\\n\\n3. **Calculate a Test Statistic:**\\n   - Based on the data, you calculate a test statistic that quantifies how far the observed data deviates from what would be expected under the null hypothesis.\\n\\n4. **Determine the P-value:**\\n   - The p-value is a measure of how likely you would observe the data or something more extreme if the null hypothesis were true. A low p-value indicates that the observed data is unlikely under the null hypothesis.\\n\\n5. **Make a Decision:**\\n   - If the p-value is very small (typically smaller than a predetermined significance level), you reject the null hypothesis in favor of the alternative hypothesis.\\n   - If the p-value is not small, you fail to reject the null hypothesis.\\n\\nThe importance of hypothesis testing lies in its ability to provide a structured and objective way to make informed decisions based on data. Here's why hypothesis testing is significant:\\n\\n1. **Informed Decision Making:** Hypothesis testing helps decision-makers evaluate claims and make informed choices about treatments, strategies, or actions based on evidence rather than intuition or assumption.\\n\\n2. **Scientific Validity:** In scientific research, hypothesis testing provides a way to validate or challenge theories and hypotheses using empirical evidence. It contributes to the credibility and rigor of scientific inquiry.\\n\\n3. **Quality Control:** In industries and manufacturing, hypothesis testing is used to ensure product quality and process consistency. It helps detect deviations from desired standards and guides corrective actions.\\n\\n4. **Policy and Business Decisions:** Hypothesis testing assists in making decisions related to public policies, marketing strategies, and business operations by providing insights into the effectiveness of different approaches.\\n\\n5. **Medical and Healthcare Applications:** Hypothesis testing is used to assess the efficacy of medical treatments, evaluate the significance of health interventions, and analyze clinical trial results.\\n\\n6. **Legal and Regulatory Contexts:** Hypothesis testing can play a role in legal proceedings by providing objective evidence to support claims or refute allegations.\\n\\nIn essence, hypothesis testing is a cornerstone of statistical reasoning, enabling us to make well-founded decisions, draw valid conclusions, and contribute to the advancement of knowledge and practice across various fields.\""
      ]
     },
     "execution_count": 3,
     "metadata": {},
     "output_type": "execute_result"
    }
   ],
   "source": [
    "#que 3\n",
    "\"\"\"Hypothesis testing is a fundamental concept in statistics used to make decisions and draw conclusions about population parameters based on sample data. It involves the formulation of two competing hypotheses, the null hypothesis (H0) and the alternative hypothesis (Ha), and then using statistical methods to determine whether there is enough evidence to support rejecting the null hypothesis in favor of the alternative hypothesis.\n",
    "\n",
    "Here's the basic process of hypothesis testing:\n",
    "\n",
    "1. **Formulate Hypotheses:**\n",
    "   - Null Hypothesis (H0): This is a statement of no effect or no difference. It's what you assume to be true unless there is strong evidence to the contrary.\n",
    "   - Alternative Hypothesis (Ha): This is the statement you are trying to find evidence for. It asserts that there is a significant effect or difference.\n",
    "\n",
    "2. **Collect and Analyze Data:**\n",
    "   - You collect sample data relevant to the hypothesis you're testing.\n",
    "\n",
    "3. **Calculate a Test Statistic:**\n",
    "   - Based on the data, you calculate a test statistic that quantifies how far the observed data deviates from what would be expected under the null hypothesis.\n",
    "\n",
    "4. **Determine the P-value:**\n",
    "   - The p-value is a measure of how likely you would observe the data or something more extreme if the null hypothesis were true. A low p-value indicates that the observed data is unlikely under the null hypothesis.\n",
    "\n",
    "5. **Make a Decision:**\n",
    "   - If the p-value is very small (typically smaller than a predetermined significance level), you reject the null hypothesis in favor of the alternative hypothesis.\n",
    "   - If the p-value is not small, you fail to reject the null hypothesis.\n",
    "\n",
    "The importance of hypothesis testing lies in its ability to provide a structured and objective way to make informed decisions based on data. Here's why hypothesis testing is significant:\n",
    "\n",
    "1. **Informed Decision Making:** Hypothesis testing helps decision-makers evaluate claims and make informed choices about treatments, strategies, or actions based on evidence rather than intuition or assumption.\n",
    "\n",
    "2. **Scientific Validity:** In scientific research, hypothesis testing provides a way to validate or challenge theories and hypotheses using empirical evidence. It contributes to the credibility and rigor of scientific inquiry.\n",
    "\n",
    "3. **Quality Control:** In industries and manufacturing, hypothesis testing is used to ensure product quality and process consistency. It helps detect deviations from desired standards and guides corrective actions.\n",
    "\n",
    "4. **Policy and Business Decisions:** Hypothesis testing assists in making decisions related to public policies, marketing strategies, and business operations by providing insights into the effectiveness of different approaches.\n",
    "\n",
    "5. **Medical and Healthcare Applications:** Hypothesis testing is used to assess the efficacy of medical treatments, evaluate the significance of health interventions, and analyze clinical trial results.\n",
    "\n",
    "6. **Legal and Regulatory Contexts:** Hypothesis testing can play a role in legal proceedings by providing objective evidence to support claims or refute allegations.\n",
    "\n",
    "In essence, hypothesis testing is a cornerstone of statistical reasoning, enabling us to make well-founded decisions, draw valid conclusions, and contribute to the advancement of knowledge and practice across various fields.\"\"\""
   ]
  },
  {
   "cell_type": "code",
   "execution_count": 4,
   "id": "2bc74ab8-6afd-4391-87ef-ea3a2b932bba",
   "metadata": {},
   "outputs": [
    {
     "data": {
      "text/plain": [
       "'here\\'s an example of a hypothesis statement that compares the average weight of male college students to the average weight of female college students:\\n\\n**Null Hypothesis (H0):** The average weight of male college students is equal to or less than the average weight of female college students.\\n\\n**Alternative Hypothesis (Ha):** The average weight of male college students is greater than the average weight of female college students.\\n\\nIn symbols:\\n- H0: μ_male ≤ μ_female\\n- Ha: μ_male > μ_female\\n\\nHere, \"μ_male\" represents the population mean weight of male college students, and \"μ_female\" represents the population mean weight of female college students. The null hypothesis assumes that there\\'s no significant difference between the average weights, while the alternative hypothesis asserts that there is a significant difference with male students having a higher average weight than female students.\\n\\nTo test this hypothesis, you would gather data on the weights of male and female college students and perform appropriate statistical analysis, such as a t-test or a z-test, to determine whether the evidence supports rejecting the null hypothesis in favor of the alternative hypothesis.'"
      ]
     },
     "execution_count": 4,
     "metadata": {},
     "output_type": "execute_result"
    }
   ],
   "source": [
    "#que 4\n",
    "\"\"\"here's an example of a hypothesis statement that compares the average weight of male college students to the average weight of female college students:\n",
    "\n",
    "**Null Hypothesis (H0):** The average weight of male college students is equal to or less than the average weight of female college students.\n",
    "\n",
    "**Alternative Hypothesis (Ha):** The average weight of male college students is greater than the average weight of female college students.\n",
    "\n",
    "In symbols:\n",
    "- H0: μ_male ≤ μ_female\n",
    "- Ha: μ_male > μ_female\n",
    "\n",
    "Here, \"μ_male\" represents the population mean weight of male college students, and \"μ_female\" represents the population mean weight of female college students. The null hypothesis assumes that there's no significant difference between the average weights, while the alternative hypothesis asserts that there is a significant difference with male students having a higher average weight than female students.\n",
    "\n",
    "To test this hypothesis, you would gather data on the weights of male and female college students and perform appropriate statistical analysis, such as a t-test or a z-test, to determine whether the evidence supports rejecting the null hypothesis in favor of the alternative hypothesis.\"\"\""
   ]
  },
  {
   "cell_type": "code",
   "execution_count": 5,
   "id": "2e9a657f-cee8-44d2-a6bd-e2e05bd04c43",
   "metadata": {},
   "outputs": [
    {
     "name": "stdout",
     "output_type": "stream",
     "text": [
      "Two-Sample T-Test Results:\n",
      "t-statistic: 4.26065866605786\n",
      "p-value: 7.576366285147484e-05\n",
      "Conclusion: Reject the null hypothesis\n"
     ]
    }
   ],
   "source": [
    "#que 5\n",
    "import numpy as np\n",
    "from scipy import stats\n",
    "\n",
    "# Generate sample data for two populations (male and female weights)\n",
    "np.random.seed(42)\n",
    "sample_size = 30\n",
    "\n",
    "male_weights = np.random.normal(loc=170, scale=10, size=sample_size)\n",
    "female_weights = np.random.normal(loc=160, scale=8, size=sample_size)\n",
    "\n",
    "# Perform a two-sample t-test\n",
    "t_statistic, p_value = stats.ttest_ind(male_weights, female_weights)\n",
    "\n",
    "# Set the significance level (alpha)\n",
    "alpha = 0.05\n",
    "\n",
    "# Compare the p-value with alpha to make a decision\n",
    "if p_value < alpha:\n",
    "    conclusion = \"Reject the null hypothesis\"\n",
    "else:\n",
    "    conclusion = \"Fail to reject the null hypothesis\"\n",
    "\n",
    "# Print results\n",
    "print(\"Two-Sample T-Test Results:\")\n",
    "print(f\"t-statistic: {t_statistic}\")\n",
    "print(f\"p-value: {p_value}\")\n",
    "print(f\"Conclusion: {conclusion}\")\n"
   ]
  },
  {
   "cell_type": "code",
   "execution_count": 6,
   "id": "5a5b4aac-bdae-4272-9d55-e084d8e5dd78",
   "metadata": {},
   "outputs": [
    {
     "data": {
      "text/plain": [
       "\"In hypothesis testing, the null hypothesis (H0) and the alternative hypothesis (Ha) are two competing statements that are used to assess the validity of a claim or make an inference about a population parameter based on sample data. These hypotheses are formulated based on the question or hypothesis being investigated.\\n\\n1. **Null Hypothesis (H0):**\\nThe null hypothesis is a statement of no effect, no difference, or no relationship. It represents the default assumption that there is no significant change or effect in the population. It's typically denoted as H0.\\n\\nExamples of null hypotheses:\\n- The average IQ of a new tutoring method is equal to the average IQ of traditional teaching.\\n- There is no difference in customer satisfaction between two different website designs.\\n- A new drug has no impact on reducing blood pressure compared to a placebo.\\n\\n2. **Alternative Hypothesis (Ha):**\\nThe alternative hypothesis is the statement you're trying to find evidence for. It asserts that there is a significant effect, difference, or relationship in the population. It's often the opposite of the null hypothesis. It's denoted as Ha or sometimes simply H1.\\n\\nExamples of alternative hypotheses corresponding to the above null hypotheses:\\n- The average IQ of a new tutoring method is greater than the average IQ of traditional teaching.\\n- There is a difference in customer satisfaction between two different website designs.\\n- The new drug significantly reduces blood pressure compared to a placebo.\\n\\nIn symbols, the null and alternative hypotheses can be written as:\\n- Null Hypothesis (H0): μ = μ0 (population parameter is equal to a specific value)\\n- Alternative Hypothesis (Ha): μ ≠ μ0 (population parameter is not equal to a specific value)\\n\\nOr for one-sided alternative hypotheses:\\n- Null Hypothesis (H0): μ ≤ μ0 (population parameter is less than or equal to a specific value)\\n- Alternative Hypothesis (Ha): μ > μ0 (population parameter is greater than a specific value)\\n\\nHypothesis testing involves analyzing sample data to determine whether there is enough evidence to either reject the null hypothesis in favor of the alternative hypothesis or fail to reject the null hypothesis. The choice between the null and alternative hypotheses depends on the research question and the hypothesis being tested.\\n\""
      ]
     },
     "execution_count": 6,
     "metadata": {},
     "output_type": "execute_result"
    }
   ],
   "source": [
    "#que 6\n",
    "\"\"\"In hypothesis testing, the null hypothesis (H0) and the alternative hypothesis (Ha) are two competing statements that are used to assess the validity of a claim or make an inference about a population parameter based on sample data. These hypotheses are formulated based on the question or hypothesis being investigated.\n",
    "\n",
    "1. **Null Hypothesis (H0):**\n",
    "The null hypothesis is a statement of no effect, no difference, or no relationship. It represents the default assumption that there is no significant change or effect in the population. It's typically denoted as H0.\n",
    "\n",
    "Examples of null hypotheses:\n",
    "- The average IQ of a new tutoring method is equal to the average IQ of traditional teaching.\n",
    "- There is no difference in customer satisfaction between two different website designs.\n",
    "- A new drug has no impact on reducing blood pressure compared to a placebo.\n",
    "\n",
    "2. **Alternative Hypothesis (Ha):**\n",
    "The alternative hypothesis is the statement you're trying to find evidence for. It asserts that there is a significant effect, difference, or relationship in the population. It's often the opposite of the null hypothesis. It's denoted as Ha or sometimes simply H1.\n",
    "\n",
    "Examples of alternative hypotheses corresponding to the above null hypotheses:\n",
    "- The average IQ of a new tutoring method is greater than the average IQ of traditional teaching.\n",
    "- There is a difference in customer satisfaction between two different website designs.\n",
    "- The new drug significantly reduces blood pressure compared to a placebo.\n",
    "\n",
    "In symbols, the null and alternative hypotheses can be written as:\n",
    "- Null Hypothesis (H0): μ = μ0 (population parameter is equal to a specific value)\n",
    "- Alternative Hypothesis (Ha): μ ≠ μ0 (population parameter is not equal to a specific value)\n",
    "\n",
    "Or for one-sided alternative hypotheses:\n",
    "- Null Hypothesis (H0): μ ≤ μ0 (population parameter is less than or equal to a specific value)\n",
    "- Alternative Hypothesis (Ha): μ > μ0 (population parameter is greater than a specific value)\n",
    "\n",
    "Hypothesis testing involves analyzing sample data to determine whether there is enough evidence to either reject the null hypothesis in favor of the alternative hypothesis or fail to reject the null hypothesis. The choice between the null and alternative hypotheses depends on the research question and the hypothesis being tested.\n",
    "\"\"\""
   ]
  },
  {
   "cell_type": "code",
   "execution_count": 7,
   "id": "bc9ad11d-6176-4294-81e0-896c0cd37c68",
   "metadata": {},
   "outputs": [
    {
     "data": {
      "text/plain": [
       "\"Hypothesis testing involves a structured set of steps to systematically evaluate a claim or hypothesis about a population parameter based on sample data. Here are the general steps involved in hypothesis testing:\\n\\n1. **Formulate Hypotheses:**\\n   - Null Hypothesis (H0): This is the default assumption of no effect, no difference, or no relationship.\\n   - Alternative Hypothesis (Ha): This is the statement you're trying to find evidence for, often asserting a significant effect, difference, or relationship.\\n\\n2. **Choose a Significance Level (α):**\\n   - The significance level (α) represents the threshold for deciding whether to reject the null hypothesis. Common values are 0.05, 0.01, etc.\\n\\n3. **Collect and Analyze Data:**\\n   - Collect sample data relevant to the hypothesis being tested.\\n   - Perform appropriate data analysis to calculate relevant statistics (e.g., mean, standard deviation) based on the sample.\\n\\n4. **Select a Test Statistic:**\\n   - Choose a test statistic that is appropriate for your hypothesis and data. This could be a t-statistic, z-score, chi-square statistic, etc.\\n\\n5. **Calculate the P-value:**\\n   - The p-value is the probability of observing the sample data or more extreme results if the null hypothesis is true. It measures the strength of evidence against the null hypothesis.\\n\\n6. **Make a Decision:**\\n   - Compare the calculated p-value with the chosen significance level (α).\\n   - If p-value < α, you have strong evidence to reject the null hypothesis in favor of the alternative hypothesis.\\n   - If p-value ≥ α, you do not have sufficient evidence to reject the null hypothesis.\\n\\n7. **Draw a Conclusion:**\\n   - Based on your decision, draw a conclusion about the hypothesis being tested.\\n   - State your conclusion in the context of the problem and the implications of your findings.\\n\\n8. **Consider Practical Significance:**\\n   - Even if you reject the null hypothesis, consider whether the observed effect or difference is practically significant and relevant.\\n\\n9. **Communicate Results:**\\n   - Present your findings, including the test statistic, p-value, conclusion, and any relevant context, in a clear and understandable manner.\\n\\nIt's important to note that hypothesis testing is a formal process that helps make objective decisions based on data. The outcome of hypothesis testing can either support the claim made in the alternative hypothesis or indicate that there isn't enough evidence to support it. It's not a definitive proof of a claim, but rather a way to make informed decisions using statistical analysis.\""
      ]
     },
     "execution_count": 7,
     "metadata": {},
     "output_type": "execute_result"
    }
   ],
   "source": [
    "#que 7\n",
    "\"\"\"Hypothesis testing involves a structured set of steps to systematically evaluate a claim or hypothesis about a population parameter based on sample data. Here are the general steps involved in hypothesis testing:\n",
    "\n",
    "1. **Formulate Hypotheses:**\n",
    "   - Null Hypothesis (H0): This is the default assumption of no effect, no difference, or no relationship.\n",
    "   - Alternative Hypothesis (Ha): This is the statement you're trying to find evidence for, often asserting a significant effect, difference, or relationship.\n",
    "\n",
    "2. **Choose a Significance Level (α):**\n",
    "   - The significance level (α) represents the threshold for deciding whether to reject the null hypothesis. Common values are 0.05, 0.01, etc.\n",
    "\n",
    "3. **Collect and Analyze Data:**\n",
    "   - Collect sample data relevant to the hypothesis being tested.\n",
    "   - Perform appropriate data analysis to calculate relevant statistics (e.g., mean, standard deviation) based on the sample.\n",
    "\n",
    "4. **Select a Test Statistic:**\n",
    "   - Choose a test statistic that is appropriate for your hypothesis and data. This could be a t-statistic, z-score, chi-square statistic, etc.\n",
    "\n",
    "5. **Calculate the P-value:**\n",
    "   - The p-value is the probability of observing the sample data or more extreme results if the null hypothesis is true. It measures the strength of evidence against the null hypothesis.\n",
    "\n",
    "6. **Make a Decision:**\n",
    "   - Compare the calculated p-value with the chosen significance level (α).\n",
    "   - If p-value < α, you have strong evidence to reject the null hypothesis in favor of the alternative hypothesis.\n",
    "   - If p-value ≥ α, you do not have sufficient evidence to reject the null hypothesis.\n",
    "\n",
    "7. **Draw a Conclusion:**\n",
    "   - Based on your decision, draw a conclusion about the hypothesis being tested.\n",
    "   - State your conclusion in the context of the problem and the implications of your findings.\n",
    "\n",
    "8. **Consider Practical Significance:**\n",
    "   - Even if you reject the null hypothesis, consider whether the observed effect or difference is practically significant and relevant.\n",
    "\n",
    "9. **Communicate Results:**\n",
    "   - Present your findings, including the test statistic, p-value, conclusion, and any relevant context, in a clear and understandable manner.\n",
    "\n",
    "It's important to note that hypothesis testing is a formal process that helps make objective decisions based on data. The outcome of hypothesis testing can either support the claim made in the alternative hypothesis or indicate that there isn't enough evidence to support it. It's not a definitive proof of a claim, but rather a way to make informed decisions using statistical analysis.\"\"\""
   ]
  },
  {
   "cell_type": "code",
   "execution_count": 8,
   "id": "8f0c3715-d0f6-4af0-b442-6b711487dbdd",
   "metadata": {},
   "outputs": [
    {
     "data": {
      "text/plain": [
       "'The p-value, short for \"probability value,\" is a fundamental concept in hypothesis testing. It quantifies the strength of evidence against the null hypothesis (H0) by indicating the probability of observing the sample data or more extreme data if the null hypothesis were true. In other words, the p-value tells you how likely it is to obtain the observed results under the assumption that there is no effect, no difference, or no relationship (as stated in the null hypothesis).\\n\\nHere\\'s the significance of the p-value in hypothesis testing:\\n\\n1. **Decision Rule:** The p-value helps you make a decision about whether to reject the null hypothesis or not. If the p-value is very small (typically smaller than a predetermined significance level, denoted as α), it suggests that the observed data is unlikely to have occurred if the null hypothesis were true. Therefore, you might reject the null hypothesis in favor of the alternative hypothesis.\\n\\n2. **Significance Level (α):** The significance level, or alpha (α), is the threshold you set to determine the level of evidence required to reject the null hypothesis. Commonly used values are 0.05 or 0.01. If the calculated p-value is less than or equal to α, you have enough evidence to reject the null hypothesis.\\n\\n3. **Interpretation:** A small p-value implies that the observed data is inconsistent with the null hypothesis, suggesting that the alternative hypothesis might be more plausible. A larger p-value suggests that the observed data is consistent with the null hypothesis, and you might not have enough evidence to reject it.\\n\\n4. **Statistical Significance:** When p-value is small (typically less than α), the result is often deemed statistically significant. This means that the observed effect or difference is unlikely to have occurred by chance alone.\\n\\n5. **Not Proof of Truth:** It\\'s crucial to understand that a small p-value doesn\\'t prove the alternative hypothesis to be true or the null hypothesis to be false. It simply indicates that the data provides strong evidence against the null hypothesis, supporting the possibility of an effect, difference, or relationship.\\n\\n6. **Effect Size and Practical Significance:** While p-value helps you assess statistical significance, it doesn\\'t tell you about the size of the effect or the practical importance of the result. Even if a result is statistically significant, you should consider whether the observed effect is practically meaningful.\\n\\nIn summary, the p-value serves as a tool for making informed decisions in hypothesis testing. It quantifies how strongly the data contradicts the null hypothesis and guides you in determining whether the observed results are likely due to chance or if they provide substantial evidence for the alternative hypothesis.'"
      ]
     },
     "execution_count": 8,
     "metadata": {},
     "output_type": "execute_result"
    }
   ],
   "source": [
    "#que 8\n",
    "\"\"\"The p-value, short for \"probability value,\" is a fundamental concept in hypothesis testing. It quantifies the strength of evidence against the null hypothesis (H0) by indicating the probability of observing the sample data or more extreme data if the null hypothesis were true. In other words, the p-value tells you how likely it is to obtain the observed results under the assumption that there is no effect, no difference, or no relationship (as stated in the null hypothesis).\n",
    "\n",
    "Here's the significance of the p-value in hypothesis testing:\n",
    "\n",
    "1. **Decision Rule:** The p-value helps you make a decision about whether to reject the null hypothesis or not. If the p-value is very small (typically smaller than a predetermined significance level, denoted as α), it suggests that the observed data is unlikely to have occurred if the null hypothesis were true. Therefore, you might reject the null hypothesis in favor of the alternative hypothesis.\n",
    "\n",
    "2. **Significance Level (α):** The significance level, or alpha (α), is the threshold you set to determine the level of evidence required to reject the null hypothesis. Commonly used values are 0.05 or 0.01. If the calculated p-value is less than or equal to α, you have enough evidence to reject the null hypothesis.\n",
    "\n",
    "3. **Interpretation:** A small p-value implies that the observed data is inconsistent with the null hypothesis, suggesting that the alternative hypothesis might be more plausible. A larger p-value suggests that the observed data is consistent with the null hypothesis, and you might not have enough evidence to reject it.\n",
    "\n",
    "4. **Statistical Significance:** When p-value is small (typically less than α), the result is often deemed statistically significant. This means that the observed effect or difference is unlikely to have occurred by chance alone.\n",
    "\n",
    "5. **Not Proof of Truth:** It's crucial to understand that a small p-value doesn't prove the alternative hypothesis to be true or the null hypothesis to be false. It simply indicates that the data provides strong evidence against the null hypothesis, supporting the possibility of an effect, difference, or relationship.\n",
    "\n",
    "6. **Effect Size and Practical Significance:** While p-value helps you assess statistical significance, it doesn't tell you about the size of the effect or the practical importance of the result. Even if a result is statistically significant, you should consider whether the observed effect is practically meaningful.\n",
    "\n",
    "In summary, the p-value serves as a tool for making informed decisions in hypothesis testing. It quantifies how strongly the data contradicts the null hypothesis and guides you in determining whether the observed results are likely due to chance or if they provide substantial evidence for the alternative hypothesis.\"\"\""
   ]
  },
  {
   "cell_type": "code",
   "execution_count": 9,
   "id": "8487296d-3a48-42b5-9a30-ff4abc071f1e",
   "metadata": {},
   "outputs": [
    {
     "data": {
      "image/png": "[encoded data removed]",
      "text/plain": [
       "<Figure size 800x600 with 1 Axes>"
      ]
     },
     "metadata": {},
     "output_type": "display_data"
    }
   ],
   "source": [
    "#que 9\n",
    "import numpy as np\n",
    "import matplotlib.pyplot as plt\n",
    "from scipy import stats\n",
    "\n",
    "# Degrees of freedom\n",
    "df = 10\n",
    "\n",
    "# Generate x values for the t-distribution\n",
    "x = np.linspace(-4, 4, 500)\n",
    "\n",
    "# Calculate the probability density function (PDF) of the t-distribution\n",
    "pdf = stats.t.pdf(x, df)\n",
    "\n",
    "# Create the plot\n",
    "plt.figure(figsize=(8, 6))\n",
    "plt.plot(x, pdf, label=f\"Degrees of Freedom = {df}\")\n",
    "plt.title(\"Student's t-Distribution\")\n",
    "plt.xlabel(\"x\")\n",
    "plt.ylabel(\"Probability Density\")\n",
    "plt.legend()\n",
    "plt.grid()\n",
    "plt.show()\n"
   ]
  },
  {
   "cell_type": "code",
   "execution_count": 10,
   "id": "2516c352-8b1a-45ce-b99b-ea889824b4ce",
   "metadata": {},
   "outputs": [
    {
     "name": "stdout",
     "output_type": "stream",
     "text": [
      "Two-Sample T-Test Results:\n",
      "t-statistic: -1.340716110741584\n",
      "p-value: 0.18524030686370413\n",
      "Conclusion: Fail to reject the null hypothesis\n"
     ]
    }
   ],
   "source": [
    "#que 10\n",
    "import numpy as np\n",
    "from scipy import stats\n",
    "\n",
    "# Generate two random samples of equal size\n",
    "np.random.seed(42)\n",
    "sample_size = 30\n",
    "\n",
    "sample1 = np.random.normal(loc=10, scale=2, size=sample_size)\n",
    "sample2 = np.random.normal(loc=10.5, scale=2, size=sample_size)\n",
    "\n",
    "# Perform a two-sample t-test\n",
    "t_statistic, p_value = stats.ttest_ind(sample1, sample2)\n",
    "\n",
    "# Set the significance level (alpha)\n",
    "alpha = 0.05\n",
    "\n",
    "# Compare the p-value with alpha to make a decision\n",
    "if p_value < alpha:\n",
    "    conclusion = \"Reject the null hypothesis\"\n",
    "else:\n",
    "    conclusion = \"Fail to reject the null hypothesis\"\n",
    "\n",
    "# Print results\n",
    "print(\"Two-Sample T-Test Results:\")\n",
    "print(f\"t-statistic: {t_statistic}\")\n",
    "print(f\"p-value: {p_value}\")\n",
    "print(f\"Conclusion: {conclusion}\")\n"
   ]
  },
  {
   "cell_type": "code",
   "execution_count": 11,
   "id": "cffd1995-dfc0-48e9-bd1d-a1f6c1ec3d56",
   "metadata": {},
   "outputs": [
    {
     "data": {
      "text/plain": [
       "\"The Student's t-distribution, often simply referred to as the t-distribution, is a probability distribution that arises when estimating the population mean of a normally distributed population based on a small sample size. It is a fundamental concept in statistics and is used for hypothesis testing, confidence intervals, and other inferential statistical analyses when the sample size is small and the population standard deviation is unknown.\\n\\nCharacteristics of the t-distribution:\\n\\n1. **Shape:** The t-distribution is similar in shape to the standard normal distribution (z-distribution), but it has heavier tails. This means that extreme values are more likely in the tails of the t-distribution compared to the standard normal distribution.\\n\\n2. **Location:** The center of the t-distribution is at 0, like the standard normal distribution.\\n\\n3. **Degrees of Freedom:** The shape of the t-distribution is determined by its degrees of freedom (df). As the degrees of freedom increase, the t-distribution approaches the standard normal distribution. In practical terms, higher degrees of freedom result from larger sample sizes.\\n\\nWhen to use the t-distribution:\\n\\n1. **Small Sample Size:** When working with a small sample size (typically less than 30) and you need to make inferences about the population mean. In such cases, the t-distribution provides more accurate estimates than using the standard normal distribution.\\n\\n2. **Unknown Population Standard Deviation:** When the population standard deviation is unknown and needs to be estimated from the sample data. The t-distribution accounts for the uncertainty introduced by this estimation.\\n\\n3. **Hypothesis Testing:** When conducting hypothesis tests involving the population mean (t-tests). The t-distribution is used to calculate the critical values and p-values associated with the test statistic.\\n\\n4. **Confidence Intervals:** When constructing confidence intervals for the population mean. The t-distribution is used to determine the appropriate margin of error.\\n\\n5. **Outliers:** When there might be outliers in the data that could affect the distribution. The t-distribution's heavier tails are more tolerant of outliers compared to the standard normal distribution.\\n\\nIn summary, the Student's t-distribution is a probability distribution that accounts for the increased variability introduced by estimating the population mean from a small sample size. It is a crucial tool in statistics for making accurate inferences and conducting hypothesis tests when the assumptions of normality and equal population variances are met, and the sample size is small.\\n\""
      ]
     },
     "execution_count": 11,
     "metadata": {},
     "output_type": "execute_result"
    }
   ],
   "source": [
    "#que 11\n",
    "\"\"\"The Student's t-distribution, often simply referred to as the t-distribution, is a probability distribution that arises when estimating the population mean of a normally distributed population based on a small sample size. It is a fundamental concept in statistics and is used for hypothesis testing, confidence intervals, and other inferential statistical analyses when the sample size is small and the population standard deviation is unknown.\n",
    "\n",
    "Characteristics of the t-distribution:\n",
    "\n",
    "1. **Shape:** The t-distribution is similar in shape to the standard normal distribution (z-distribution), but it has heavier tails. This means that extreme values are more likely in the tails of the t-distribution compared to the standard normal distribution.\n",
    "\n",
    "2. **Location:** The center of the t-distribution is at 0, like the standard normal distribution.\n",
    "\n",
    "3. **Degrees of Freedom:** The shape of the t-distribution is determined by its degrees of freedom (df). As the degrees of freedom increase, the t-distribution approaches the standard normal distribution. In practical terms, higher degrees of freedom result from larger sample sizes.\n",
    "\n",
    "When to use the t-distribution:\n",
    "\n",
    "1. **Small Sample Size:** When working with a small sample size (typically less than 30) and you need to make inferences about the population mean. In such cases, the t-distribution provides more accurate estimates than using the standard normal distribution.\n",
    "\n",
    "2. **Unknown Population Standard Deviation:** When the population standard deviation is unknown and needs to be estimated from the sample data. The t-distribution accounts for the uncertainty introduced by this estimation.\n",
    "\n",
    "3. **Hypothesis Testing:** When conducting hypothesis tests involving the population mean (t-tests). The t-distribution is used to calculate the critical values and p-values associated with the test statistic.\n",
    "\n",
    "4. **Confidence Intervals:** When constructing confidence intervals for the population mean. The t-distribution is used to determine the appropriate margin of error.\n",
    "\n",
    "5. **Outliers:** When there might be outliers in the data that could affect the distribution. The t-distribution's heavier tails are more tolerant of outliers compared to the standard normal distribution.\n",
    "\n",
    "In summary, the Student's t-distribution is a probability distribution that accounts for the increased variability introduced by estimating the population mean from a small sample size. It is a crucial tool in statistics for making accurate inferences and conducting hypothesis tests when the assumptions of normality and equal population variances are met, and the sample size is small.\n",
    "\"\"\""
   ]
  },
  {
   "cell_type": "code",
   "execution_count": 12,
   "id": "a9d64318-59fa-45cb-9e28-0e07893fb2c1",
   "metadata": {},
   "outputs": [
    {
     "data": {
      "text/plain": [
       "'The t-statistic (also known as the t-score) is a test statistic that measures how many standard errors the sample mean is away from the hypothesized population mean under the null hypothesis. It is a fundamental component of hypothesis testing and is used to assess whether there is a significant difference between the sample data and the population parameter being tested.\\n\\nThe formula for calculating the t-statistic depends on the scenario and the type of test being conducted. Here are the formulas for two common scenarios:\\n\\n1. **One-Sample t-Test:**\\n   In a one-sample t-test, you are comparing the sample mean to a hypothesized population mean. The formula for the t-statistic in this case is:\\n   \\n   ![One-Sample t-Test Formula](https://latex.codecogs.com/png.latex?t=\\x0crac{\\x08ar{x} - \\\\mu_0}{\\x0crac{s}{\\\\sqrt{n}}})\\n\\n   Where:\\n   - \\\\( \\x08ar{x} \\\\) is the sample mean.\\n   - \\\\( \\\\mu_0 \\\\) is the hypothesized population mean under the null hypothesis.\\n   - \\\\( s \\\\) is the sample standard deviation.\\n   - \\\\( n \\\\) is the sample size.\\n\\n2. **Two-Sample t-Test for Independent Samples:**\\n   In a two-sample t-test for independent samples, you are comparing the means of two separate groups. The formula for the t-statistic in this case is:\\n   \\n   ![Two-Sample t-Test Formula](https://latex.codecogs.com/png.latex?t=\\x0crac{\\x08ar{x}_1 - \\x08ar{x}_2}{\\\\sqrt{\\x0crac{s_1^2}{n_1} + \\x0crac{s_2^2}{n_2}}})\\n\\n   Where:\\n   - \\\\( \\x08ar{x}_1 \\\\) and \\\\( \\x08ar{x}_2 \\\\) are the sample means of the two groups.\\n   - \\\\( s_1 \\\\) and \\\\( s_2 \\\\) are the sample standard deviations of the two groups.\\n   - \\\\( n_1 \\\\) and \\\\( n_2 \\\\) are the sample sizes of the two groups.\\n\\nIn both formulas, the t-statistic measures how far the sample mean(s) are from the hypothesized population mean(s) in terms of standard errors. A larger absolute value of the t-statistic indicates a larger difference between the sample data and the hypothesized parameter(s), which could lead to rejecting the null hypothesis in favor of the alternative hypothesis, suggesting a significant effect, difference, or relationship.'"
      ]
     },
     "execution_count": 12,
     "metadata": {},
     "output_type": "execute_result"
    }
   ],
   "source": [
    "#que 12\n",
    "\"\"\"The t-statistic (also known as the t-score) is a test statistic that measures how many standard errors the sample mean is away from the hypothesized population mean under the null hypothesis. It is a fundamental component of hypothesis testing and is used to assess whether there is a significant difference between the sample data and the population parameter being tested.\n",
    "\n",
    "The formula for calculating the t-statistic depends on the scenario and the type of test being conducted. Here are the formulas for two common scenarios:\n",
    "\n",
    "1. **One-Sample t-Test:**\n",
    "   In a one-sample t-test, you are comparing the sample mean to a hypothesized population mean. The formula for the t-statistic in this case is:\n",
    "   \n",
    "   ![One-Sample t-Test Formula](https://latex.codecogs.com/png.latex?t=\\frac{\\bar{x} - \\mu_0}{\\frac{s}{\\sqrt{n}}})\n",
    "\n",
    "   Where:\n",
    "   - \\( \\bar{x} \\) is the sample mean.\n",
    "   - \\( \\mu_0 \\) is the hypothesized population mean under the null hypothesis.\n",
    "   - \\( s \\) is the sample standard deviation.\n",
    "   - \\( n \\) is the sample size.\n",
    "\n",
    "2. **Two-Sample t-Test for Independent Samples:**\n",
    "   In a two-sample t-test for independent samples, you are comparing the means of two separate groups. The formula for the t-statistic in this case is:\n",
    "   \n",
    "   ![Two-Sample t-Test Formula](https://latex.codecogs.com/png.latex?t=\\frac{\\bar{x}_1 - \\bar{x}_2}{\\sqrt{\\frac{s_1^2}{n_1} + \\frac{s_2^2}{n_2}}})\n",
    "\n",
    "   Where:\n",
    "   - \\( \\bar{x}_1 \\) and \\( \\bar{x}_2 \\) are the sample means of the two groups.\n",
    "   - \\( s_1 \\) and \\( s_2 \\) are the sample standard deviations of the two groups.\n",
    "   - \\( n_1 \\) and \\( n_2 \\) are the sample sizes of the two groups.\n",
    "\n",
    "In both formulas, the t-statistic measures how far the sample mean(s) are from the hypothesized population mean(s) in terms of standard errors. A larger absolute value of the t-statistic indicates a larger difference between the sample data and the hypothesized parameter(s), which could lead to rejecting the null hypothesis in favor of the alternative hypothesis, suggesting a significant effect, difference, or relationship.\"\"\""
   ]
  },
  {
   "cell_type": "code",
   "execution_count": 13,
   "id": "567a633b-5721-493f-b53c-bb89269c0740",
   "metadata": {},
   "outputs": [
    {
     "name": "stdout",
     "output_type": "stream",
     "text": [
      "Sample Mean Revenue: $500\n",
      "Margin of Error: $13.86\n",
      "95% Confidence Interval: $486.14 - $513.86\n"
     ]
    }
   ],
   "source": [
    "#que 13\n",
    "import scipy.stats as stats\n",
    "import numpy as np\n",
    "\n",
    "# Given data\n",
    "sample_mean = 500  # Sample mean revenue\n",
    "sample_std_dev = 50  # Sample standard deviation\n",
    "sample_size = 50  # Sample size\n",
    "\n",
    "# Confidence level\n",
    "confidence_level = 0.95\n",
    "\n",
    "# Calculate the margin of error\n",
    "z_critical = stats.norm.ppf(1 - (1 - confidence_level) / 2)  # Z-score for 95% confidence interval\n",
    "margin_of_error = z_critical * (sample_std_dev / np.sqrt(sample_size))\n",
    "\n",
    "# Calculate the confidence interval\n",
    "confidence_interval_lower = sample_mean - margin_of_error\n",
    "confidence_interval_upper = sample_mean + margin_of_error\n",
    "\n",
    "# Print results\n",
    "print(f\"Sample Mean Revenue: ${sample_mean}\")\n",
    "print(f\"Margin of Error: ${margin_of_error:.2f}\")\n",
    "print(f\"95% Confidence Interval: ${confidence_interval_lower:.2f} - ${confidence_interval_upper:.2f}\")\n"
   ]
  },
  {
   "cell_type": "code",
   "execution_count": 14,
   "id": "ae1de525-a27a-4283-974a-f7eda52f59e5",
   "metadata": {},
   "outputs": [
    {
     "name": "stdout",
     "output_type": "stream",
     "text": [
      "t-Statistic: -6.67\n",
      "Critical t-Value: 1.66\n",
      "Conclusion: Reject the null hypothesis\n"
     ]
    }
   ],
   "source": [
    "#que 14\n",
    "import scipy.stats as stats\n",
    "import numpy as np\n",
    "\n",
    "# Given data\n",
    "sample_mean = 8  # Sample mean decrease in blood pressure (mmHg)\n",
    "hypothesized_mean = 10  # Hypothesized decrease in blood pressure (mmHg)\n",
    "sample_std_dev = 3  # Sample standard deviation (mmHg)\n",
    "sample_size = 100  # Sample size\n",
    "\n",
    "# Significance level\n",
    "alpha = 0.05\n",
    "\n",
    "# Calculate the t-statistic\n",
    "t_statistic = (sample_mean - hypothesized_mean) / (sample_std_dev / np.sqrt(sample_size))\n",
    "\n",
    "# Calculate the degrees of freedom\n",
    "degrees_of_freedom = sample_size - 1\n",
    "\n",
    "# Calculate the critical t-value for a one-tailed test\n",
    "critical_t_value = stats.t.ppf(1 - alpha, df=degrees_of_freedom)\n",
    "\n",
    "# Determine if the null hypothesis should be rejected\n",
    "if t_statistic < -critical_t_value or t_statistic > critical_t_value:\n",
    "    conclusion = \"Reject the null hypothesis\"\n",
    "else:\n",
    "    conclusion = \"Fail to reject the null hypothesis\"\n",
    "\n",
    "# Print results\n",
    "print(f\"t-Statistic: {t_statistic:.2f}\")\n",
    "print(f\"Critical t-Value: {critical_t_value:.2f}\")\n",
    "print(f\"Conclusion: {conclusion}\")\n"
   ]
  },
  {
   "cell_type": "code",
   "execution_count": 15,
   "id": "40a1fddc-8803-4764-9c0f-17049cdd4ca8",
   "metadata": {},
   "outputs": [
    {
     "name": "stdout",
     "output_type": "stream",
     "text": [
      "t-Statistic: -2.00\n",
      "Critical t-Value: -2.49\n",
      "Conclusion: Reject the null hypothesis\n"
     ]
    }
   ],
   "source": [
    "#que 15\n",
    "import scipy.stats as stats\n",
    "import numpy as np\n",
    "\n",
    "# Given data\n",
    "sample_mean = 4.8  # Sample mean weight (pounds)\n",
    "hypothesized_mean = 5  # Hypothesized mean weight (pounds)\n",
    "sample_std_dev = 0.5  # Sample standard deviation (pounds)\n",
    "sample_size = 25  # Sample size\n",
    "\n",
    "# Significance level\n",
    "alpha = 0.01\n",
    "\n",
    "# Calculate the t-statistic\n",
    "t_statistic = (sample_mean - hypothesized_mean) / (sample_std_dev / np.sqrt(sample_size))\n",
    "\n",
    "# Calculate the degrees of freedom\n",
    "degrees_of_freedom = sample_size - 1\n",
    "\n",
    "# Calculate the critical t-value for a one-tailed test\n",
    "critical_t_value = stats.t.ppf(alpha, df=degrees_of_freedom)\n",
    "\n",
    "# Determine if the null hypothesis should be rejected\n",
    "if t_statistic < -critical_t_value:\n",
    "    conclusion = \"Reject the null hypothesis\"\n",
    "else:\n",
    "    conclusion = \"Fail to reject the null hypothesis\"\n",
    "\n",
    "# Print results\n",
    "print(f\"t-Statistic: {t_statistic:.2f}\")\n",
    "print(f\"Critical t-Value: {critical_t_value:.2f}\")\n",
    "print(f\"Conclusion: {conclusion}\")\n"
   ]
  },
  {
   "cell_type": "code",
   "execution_count": 16,
   "id": "9178a5b7-65c0-429d-8010-8be09618a039",
   "metadata": {},
   "outputs": [
    {
     "name": "stdout",
     "output_type": "stream",
     "text": [
      "t-Statistic: 2.32\n",
      "Critical t-Value: 2.65\n",
      "Conclusion: Fail to reject the null hypothesis\n"
     ]
    }
   ],
   "source": [
    "#que 16\n",
    "import scipy.stats as stats\n",
    "import numpy as np\n",
    "\n",
    "# Given data for Group 1\n",
    "sample_mean_1 = 80  # Sample mean score\n",
    "sample_std_dev_1 = 10  # Sample standard deviation\n",
    "sample_size_1 = 30  # Sample size\n",
    "\n",
    "# Given data for Group 2\n",
    "sample_mean_2 = 75  # Sample mean score\n",
    "sample_std_dev_2 = 8  # Sample standard deviation\n",
    "sample_size_2 = 40  # Sample size\n",
    "\n",
    "# Significance level\n",
    "alpha = 0.01\n",
    "\n",
    "# Calculate the pooled standard deviation\n",
    "pooled_std_dev = np.sqrt(((sample_std_dev_1**2 * (sample_size_1 - 1)) + (sample_std_dev_2**2 * (sample_size_2 - 1))) / (sample_size_1 + sample_size_2 - 2))\n",
    "\n",
    "# Calculate the t-statistic\n",
    "t_statistic = (sample_mean_1 - sample_mean_2) / (pooled_std_dev * np.sqrt((1/sample_size_1) + (1/sample_size_2)))\n",
    "\n",
    "# Calculate the degrees of freedom\n",
    "degrees_of_freedom = sample_size_1 + sample_size_2 - 2\n",
    "\n",
    "# Calculate the critical t-value for a two-tailed test\n",
    "critical_t_value = stats.t.ppf(1 - alpha/2, df=degrees_of_freedom)\n",
    "\n",
    "# Determine if the null hypothesis should be rejected\n",
    "if abs(t_statistic) > critical_t_value:\n",
    "    conclusion = \"Reject the null hypothesis\"\n",
    "else:\n",
    "    conclusion = \"Fail to reject the null hypothesis\"\n",
    "\n",
    "# Print results\n",
    "print(f\"t-Statistic: {t_statistic:.2f}\")\n",
    "print(f\"Critical t-Value: {critical_t_value:.2f}\")\n",
    "print(f\"Conclusion: {conclusion}\")\n"
   ]
  },
  {
   "cell_type": "code",
   "execution_count": 17,
   "id": "a9f3064e-ae3f-4ca3-9dff-a3f78767389d",
   "metadata": {},
   "outputs": [
    {
     "name": "stdout",
     "output_type": "stream",
     "text": [
      "Sample Mean: 4\n",
      "Margin of Error: 0.57\n",
      "99% Confidence Interval: 3.43 - 4.57\n"
     ]
    }
   ],
   "source": [
    "#que 17\n",
    "import scipy.stats as stats\n",
    "import numpy as np\n",
    "\n",
    "# Given data\n",
    "sample_mean = 4  # Sample mean number of ads watched\n",
    "sample_std_dev = 1.5  # Sample standard deviation\n",
    "sample_size = 50  # Sample size\n",
    "\n",
    "# Confidence level\n",
    "confidence_level = 0.99\n",
    "\n",
    "# Calculate the margin of error\n",
    "degrees_of_freedom = sample_size - 1\n",
    "t_critical = stats.t.ppf(1 - (1 - confidence_level) / 2, df=degrees_of_freedom)\n",
    "margin_of_error = t_critical * (sample_std_dev / np.sqrt(sample_size))\n",
    "\n",
    "# Calculate the confidence interval\n",
    "confidence_interval_lower = sample_mean - margin_of_error\n",
    "confidence_interval_upper = sample_mean + margin_of_error\n",
    "\n",
    "# Print results\n",
    "print(f\"Sample Mean: {sample_mean}\")\n",
    "print(f\"Margin of Error: {margin_of_error:.2f}\")\n",
    "print(f\"99% Confidence Interval: {confidence_interval_lower:.2f} - {confidence_interval_upper:.2f}\")\n"
   ]
  },
  {
   "cell_type": "code",
   "execution_count": null,
   "id": "1459a461-1596-4cde-ad37-0c3564561697",
   "metadata": {},
   "outputs": [],
   "source": []
  }
 ],
 "metadata": {
  "kernelspec": {
   "display_name": "Python 3 (ipykernel)",
   "language": "python",
   "name": "python3"
  },
  "language_info": {
   "codemirror_mode": {
    "name": "ipython",
    "version": 3
   },
   "file_extension": ".py",
   "mimetype": "text/x-python",
   "name": "python",
   "nbconvert_exporter": "python",
   "pygments_lexer": "ipython3",
   "version": "3.10.8"
  }
 },
 "nbformat": 4,
 "nbformat_minor": 5
}
